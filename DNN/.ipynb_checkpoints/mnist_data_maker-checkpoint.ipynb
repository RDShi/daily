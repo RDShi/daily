{
 "cells": [
  {
   "cell_type": "markdown",
   "metadata": {},
   "source": [
    "## 获取数据"
   ]
  },
  {
   "cell_type": "code",
   "execution_count": 4,
   "metadata": {},
   "outputs": [
    {
     "data": {
      "image/png": "[encoded data removed]",
      "text/plain": [
       "<matplotlib.figure.Figure at 0xcbe6c89518>"
      ]
     },
     "metadata": {},
     "output_type": "display_data"
    },
    {
     "name": "stdout",
     "output_type": "stream",
     "text": [
      "0.0\n"
     ]
    }
   ],
   "source": [
    "from sklearn.datasets import fetch_mldata\n",
    "import matplotlib.pyplot as plt\n",
    "import numpy as np\n",
    "\n",
    "data = fetch_mldata(\"MNIST original\")\n",
    "\n",
    "feats = data.data\n",
    "labs = data.target\n",
    "\n",
    "i = 300\n",
    "image = np.reshape(feats[i],[28,28])\n",
    "plt.imshow(image)\n",
    "plt.show()\n",
    "print(labs[i])"
   ]
  },
  {
   "cell_type": "markdown",
   "metadata": {},
   "source": [
    "## 划分训练集和验证集"
   ]
  },
  {
   "cell_type": "code",
   "execution_count": 23,
   "metadata": {},
   "outputs": [],
   "source": [
    "from sklearn.model_selection import train_test_split\n",
    "train_feats, val_feats, train_labs, val_labs = train_test_split(feats, labs, test_size=0.2, random_state=0)"
   ]
  },
  {
   "cell_type": "markdown",
   "metadata": {},
   "source": [
    "## 写.bin"
   ]
  },
  {
   "cell_type": "code",
   "execution_count": 37,
   "metadata": {},
   "outputs": [],
   "source": [
    "import numpy as np\n",
    "import matplotlib.pyplot as plt\n",
    "val_feats = val_feats.astype(np.float32)\n",
    "val_feats.tofile(\"data/feats.bin\")\n",
    "val_labs = val_labs.astype(np.int64)\n",
    "val_labs.tofile(\"data/labs.bin\")"
   ]
  },
  {
   "cell_type": "markdown",
   "metadata": {},
   "source": [
    "## 读.bin"
   ]
  },
  {
   "cell_type": "code",
   "execution_count": null,
   "metadata": {},
   "outputs": [],
   "source": [
    "val_feats = np.fromfile(\"data/feats.bin\", dtype = np.float32)\n",
    "val_labs = np.fromfile(\"data/labs.bin\", dtype = np.int64)\n",
    "n = len(val_labs)\n",
    "val_feats = np.reshape(val_feats,[n,-1])\n",
    "i = 10\n",
    "plt.imshow(np.reshape(val_feats[i],[28,28]))\n",
    "plt.show()\n",
    "print(val_labs[i])"
   ]
  },
  {
   "cell_type": "markdown",
   "metadata": {},
   "source": [
    "## 写TFTecord"
   ]
  },
  {
   "cell_type": "code",
   "execution_count": 6,
   "metadata": {},
   "outputs": [],
   "source": [
    "import tensorflow as tf\n",
    "option = tf.python_io.TFRecordOptions(tf.python_io.TFRecordCompressionType.GZIP)\n",
    "writer = tf.python_io.TFRecordWriter(\"data/train.tfr\", options=option)\n",
    "\n",
    "n =len(train_feats)\n",
    "train_feats = val_feats.astype(np.float32)\n",
    "train_labs = val_labs.astype(np.int64)\n",
    "for i in range(n):\n",
    "    feature = {\"feat\": tf.train.Feature(bytes_list = tf.train.BytesList(value = [train_feats[i].tostring()])),\n",
    "               \"lab\": tf.train.Feature(int64_list = tf.train.Int64List(value = [train_labs[i]]))}\n",
    "    example = tf.train.Example(features=tf.train.Features(feature = feature))\n",
    "    writer.write(example.SerializeToString())\n",
    "writer.close()"
   ]
  },
  {
   "cell_type": "markdown",
   "metadata": {},
   "source": [
    "## 读TFRecord"
   ]
  },
  {
   "cell_type": "code",
   "execution_count": 59,
   "metadata": {},
   "outputs": [],
   "source": [
    "reader = tf.TFRecordReader(options=option)\n",
    "file_queue = tf.train.string_input_producer([\"data/train.tfr\"])\n",
    "_, example = reader.read(file_queue)\n",
    "feature = {\"lab\": tf.FixedLenFeature([], tf.int64),\n",
    "          \"feat\": tf.FixedLenFeature([], tf.string)}\n",
    "features = tf.parse_single_example(example, features=feature)\n",
    "\n",
    "feats = tf.decode_raw(features[\"feat\"], tf.float32, name=\"feats\")\n",
    "labs = features[\"lab\"]"
   ]
  },
  {
   "cell_type": "code",
   "execution_count": 63,
   "metadata": {},
   "outputs": [
    {
     "data": {
      "image/png": "[encoded data removed]",
      "text/plain": [
       "<matplotlib.figure.Figure at 0xcb873a64e0>"
      ]
     },
     "metadata": {},
     "output_type": "display_data"
    },
    {
     "name": "stdout",
     "output_type": "stream",
     "text": [
      "7\n"
     ]
    }
   ],
   "source": [
    "i = 10\n",
    "with tf.Session() as sess:\n",
    "    coord = tf.train.Coordinator()\n",
    "    threads = tf.train.start_queue_runners(coord=coord) \n",
    "    for _ in range(i):\n",
    "        feat, lab = sess.run([feats, labs])\n",
    "    image = np.reshape(feat,[28,28])\n",
    "    plt.imshow(image)\n",
    "    plt.show()\n",
    "    print(lab)\n",
    "    coord.request_stop()\n",
    "    coord.join(threads)\n",
    "    "
   ]
  },
  {
   "cell_type": "code",
   "execution_count": null,
   "metadata": {},
   "outputs": [],
   "source": []
  }
 ],
 "metadata": {
  "kernelspec": {
   "display_name": "Python 3",
   "language": "python",
   "name": "python3"
  },
  "language_info": {
   "codemirror_mode": {
    "name": "ipython",
    "version": 3
   },
   "file_extension": ".py",
   "mimetype": "text/x-python",
   "name": "python",
   "nbconvert_exporter": "python",
   "pygments_lexer": "ipython3",
   "version": "3.5.1"
  }
 },
 "nbformat": 4,
 "nbformat_minor": 2
}
