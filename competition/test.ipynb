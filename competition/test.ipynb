{
 "cells": [
  {
   "cell_type": "code",
   "execution_count": 2,
   "metadata": {},
   "outputs": [],
   "source": [
    "import numpy as np\n",
    "\n",
    "file_name = \"data/tap4fun竞赛数据/tap_fun_train.csv\"\n",
    "with open(file_name,\"r\") as fid:\n",
    "    lines = fid.readlines()"
   ]
  },
  {
   "cell_type": "code",
   "execution_count": 58,
   "metadata": {},
   "outputs": [],
   "source": [
    "feats = []\n",
    "labs = []\n",
    "for line in lines[1:10000]:\n",
    "    feats.append([float(i) for i in line.strip().split(\",\")[2:-1]])\n",
    "    labs.append(float(line.strip().split(\",\")[-1]))\n",
    "feats = np.array(feats)\n",
    "labs = np.array(labs)"
   ]
  },
  {
   "cell_type": "code",
   "execution_count": 59,
   "metadata": {},
   "outputs": [],
   "source": [
    "from sklearn.model_selection import train_test_split\n",
    "from sklearn.metrics import mean_squared_error\n",
    "import lightgbm.sklearn as bgm\n",
    "train_feats, val_feats, train_labs, val_labs = train_test_split(feats, labs, test_size=0.2, random_state=0)"
   ]
  },
  {
   "cell_type": "code",
   "execution_count": 62,
   "metadata": {},
   "outputs": [
    {
     "name": "stdout",
     "output_type": "stream",
     "text": [
      "train: 59.58268403564739\n",
      "test: 46.38423711526119\n"
     ]
    }
   ],
   "source": [
    "model = bgm.LGBMRegressor(max_depth=10, n_estimators=200)\n",
    "model = model.fit(train_feats, train_labs)\n",
    "\n",
    "print(\"train:\", mean_squared_error(train_labs,model.predict(train_feats))**0.5)\n",
    "print(\"test:\", mean_squared_error(val_labs,model.predict(val_feats))**0.5)"
   ]
  },
  {
   "cell_type": "code",
   "execution_count": 90,
   "metadata": {},
   "outputs": [],
   "source": [
    "from sklearn.preprocessing import OneHotEncoder\n",
    "\n",
    "model = bgm.LGBMRegressor(max_depth=10, n_estimators=200)\n",
    "model = model.fit(train_feats, train_labs)\n",
    "onehot = OneHotEncoder().fit(model.predict(train_feats,pred_leaf=True).shape)\n",
    "feats_lr = onehot.transform(model.predict(train_feats,pred_leaf=True).shape)\n",
    "\n",
    "onehot = OneHotEncoder().fit(model.predict(train_feats,pred_leaf=True))\n",
    "feats_lr = onehot.transform(model.predict(train_feats,pred_leaf=True))\n",
    "\n",
    "model_rf = RandomForestRegressor(n_estimators=100).fit(feats_lr, train_labs)\n",
    "\n",
    "print(\"train:\", mean_squared_error(train_labs,model_rf.predict(onehot.transform(model.predict(train_feats,pred_leaf=True))))**0.5)\n",
    "print(\"test:\", mean_squared_error(val_labs,model_rf.predict(onehot.transform(model.predict(val_feats,pred_leaf=True))))**0.5)"
   ]
  },
  {
   "cell_type": "code",
   "execution_count": 102,
   "metadata": {},
   "outputs": [],
   "source": [
    "model_rf = RandomForestRegressor(n_estimators=100).fit(feats_lr, train_labs)\n",
    "\n",
    "print(\"train:\", mean_squared_error(train_labs,model_rf.predict(onehot.transform(model.predict(train_feats,pred_leaf=True))))**0.5)\n",
    "print(\"test:\", mean_squared_error(val_labs,model_rf.predict(onehot.transform(model.predict(val_feats,pred_leaf=True))))**0.5)"
   ]
  },
  {
   "cell_type": "code",
   "execution_count": 103,
   "metadata": {},
   "outputs": [
    {
     "name": "stdout",
     "output_type": "stream",
     "text": [
      "train: 44.66240384996096\n",
      "test: 27.617425402549696\n"
     ]
    }
   ],
   "source": [
    "print(\"train:\", mean_squared_error(train_labs,model_rf.predict(onehot.transform(model.predict(train_feats,pred_leaf=True))))**0.5)\n",
    "print(\"test:\", mean_squared_error(val_labs,model_rf.predict(onehot.transform(model.predict(val_feats,pred_leaf=True))))**0.5)"
   ]
  }
 ],
 "metadata": {
  "kernelspec": {
   "display_name": "Python 3",
   "language": "python",
   "name": "python3"
  },
  "language_info": {
   "codemirror_mode": {
    "name": "ipython",
    "version": 3
   },
   "file_extension": ".py",
   "mimetype": "text/x-python",
   "name": "python",
   "nbconvert_exporter": "python",
   "pygments_lexer": "ipython3",
   "version": "3.5.1"
  }
 },
 "nbformat": 4,
 "nbformat_minor": 2
}
