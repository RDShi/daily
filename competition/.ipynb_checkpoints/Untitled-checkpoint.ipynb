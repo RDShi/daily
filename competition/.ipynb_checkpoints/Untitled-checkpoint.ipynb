{
 "cells": [
  {
   "cell_type": "code",
   "execution_count": 1,
   "metadata": {},
   "outputs": [],
   "source": [
    "import numpy as np\n",
    "import tensorflow as tf\n",
    "import matplotlib.pyplot as plt"
   ]
  },
  {
   "cell_type": "code",
   "execution_count": 44,
   "metadata": {},
   "outputs": [],
   "source": [
    "import json\n",
    "import datetime \n",
    "fid = open(\"data/trains.json\")\n",
    "data_raw = json.load(fid)\n",
    "fid.close()\n",
    "start_time = datetime.datetime.strptime(\"2017-10-17\", \"%Y-%m-%d\")\n",
    "end_time = datetime.datetime.strptime(\"2017-12-1\", \"%Y-%m-%d\")\n",
    "feats_raw = np.zeros([1080,1+7+24])\n",
    "labs = np.zeros([1080,33])\n",
    "for data in data_raw:\n",
    "    data_time = datetime.datetime.strptime(data[\"date\"], \"%Y-%m-%d:%H\")\n",
    "    if data_time >= start_time:\n",
    "        n = int((data_time - start_time).total_seconds()/(60*60))\n",
    "        feats_raw[n][0] = data[\"holiday\"]\n",
    "        feats_raw[n][data[\"week\"]] = 1\n",
    "        feats_raw[n][data_time.hour+8] = 1\n",
    "        labs[n][data[\"place\"]-1] = data[\"people\"]"
   ]
  },
  {
   "cell_type": "code",
   "execution_count": 48,
   "metadata": {},
   "outputs": [],
   "source": [
    "HIDDEN_SIZE = 30                            # LSTM中隐藏节点的个数。\n",
    "NUM_LAYERS = 2                              # LSTM的层数。\n",
    "TIMESTEPS = 24*7                            # 循环神经网络的训练序列长度。\n",
    "TRAINING_STEPS = 10000                      # 训练轮数。\n",
    "BATCH_SIZE = 32                             # batch大小。"
   ]
  },
  {
   "cell_type": "code",
   "execution_count": 115,
   "metadata": {},
   "outputs": [],
   "source": [
    "train_feats = np.array([])\n",
    "train_labs = np.array([])\n",
    "for i in range(7):\n",
    "    if i == 0:\n",
    "        train_feats = np.reshape(feats_raw[TIMESTEPS*i:TIMESTEPS*(i+1)], [-1])\n",
    "        train_labs = np.reshape(labs[TIMESTEPS*i:TIMESTEPS*(i+1)], [-1])\n",
    "    else:\n",
    "        train_feats = np.vstack([train_feats, feats_raw[TIMESTEPS*i:TIMESTEPS*(i+1)]])\n",
    "        train_labs = np.vstack([train_labs, labs[TIMESTEPS*i:TIMESTEPS*(i+1)]])\n",
    "train_feats = np.array(train_feats)\n",
    "train_labs = np.array(train_labs)\n",
    "val_feats = np.array(feats_raw[TIMESTEPS*i:TIMESTEPS*(i+1)])\n",
    "val_labs = np.array(labs[TIMESTEPS*i:TIMESTEPS*(i+1)])"
   ]
  },
  {
   "cell_type": "code",
   "execution_count": 119,
   "metadata": {},
   "outputs": [
    {
     "data": {
      "text/plain": [
       "array([ 934., 1037.,  232., ...,  530.,  241.,  119.])"
      ]
     },
     "execution_count": 119,
     "metadata": {},
     "output_type": "execute_result"
    }
   ],
   "source": []
  },
  {
   "cell_type": "code",
   "execution_count": 82,
   "metadata": {},
   "outputs": [],
   "source": [
    "def lstm_model(X, y, is_training):\n",
    "    cell = tf.nn.rnn_cell.MultiRNNCell([\n",
    "        tf.nn.rnn_cell.BasicLSTMCell(HIDDEN_SIZE) \n",
    "        for _ in range(NUM_LAYERS)])\n",
    "\n",
    "    outputs, _ = tf.nn.dynamic_rnn(cell, X, dtype=tf.float32)\n",
    "    #output = outputs[:, -1, :]\n",
    "    output = outputs[:, -1, :]\n",
    "\n",
    "    predictions = tf.contrib.layers.fully_connected(\n",
    "        output, 1, activation_fn=None)\n",
    "    \n",
    "    if not is_training:\n",
    "        return predictions, None, None\n",
    "\n",
    "    loss = tf.losses.mean_squared_error(labels=y, predictions=predictions)\n",
    "\n",
    "    # 创建模型优化器并得到优化步骤。\n",
    "    train_op = tf.contrib.layers.optimize_loss(\n",
    "        loss, tf.train.get_global_step(),\n",
    "        optimizer=\"Adagrad\", learning_rate=0.1)\n",
    "    return predictions, loss, train_op"
   ]
  },
  {
   "cell_type": "code",
   "execution_count": 83,
   "metadata": {},
   "outputs": [],
   "source": [
    "def run_eval(sess, test_X, test_y):\n",
    "    ds = tf.data.Dataset.from_tensor_slices((test_X, test_y))\n",
    "    ds = ds.batch(1)\n",
    "    X, y = ds.make_one_shot_iterator().get_next()\n",
    "    \n",
    "    with tf.variable_scope(\"model\", reuse=True):\n",
    "        prediction, _, _ = lstm_model(X, [0.0], False)\n",
    "    \n",
    "    predictions = []\n",
    "    labels = []\n",
    "    for i in range(TESTING_EXAMPLES):\n",
    "        p, l = sess.run([prediction, y])\n",
    "        predictions.append(p)\n",
    "        labels.append(l)\n",
    "\n",
    "    predictions = np.array(predictions).squeeze()\n",
    "    labels = np.array(labels).squeeze()\n",
    "    rmse = np.sqrt(((predictions - labels) ** 2).mean(axis=0))\n",
    "    print(\"Root Mean Square Error is: %f\" % rmse)\n",
    "    \n",
    "    plt.figure()\n",
    "    plt.plot(predictions[1], label='predictions')\n",
    "    plt.plot(labels[1], label='real_sin')\n",
    "    plt.legend()\n",
    "    plt.show()"
   ]
  },
  {
   "cell_type": "code",
   "execution_count": 96,
   "metadata": {},
   "outputs": [
    {
     "data": {
      "text/plain": [
       "array([508., 773., 207., ..., 530., 241., 119.])"
      ]
     },
     "execution_count": 96,
     "metadata": {},
     "output_type": "execute_result"
    }
   ],
   "source": [
    "# ds = tf.data.Dataset.from_tensor_slices((train_feats, train_lablen/9s))\n",
    "train_labs"
   ]
  },
  {
   "cell_type": "code",
   "execution_count": null,
   "metadata": {},
   "outputs": [],
   "source": [
    "ds = tf.data.Dataset.from_tensor_slices((train_feats, train_labs))\n",
    "ds = ds.repeat().shuffle(1000).batch(BATCH_SIZE)\n",
    "X, y = ds.make_one_shot_iterator().get_next()\n",
    "\n",
    "# 定义模型，得到预测结果、损失函数，和训练操作。\n",
    "with tf.variable_scope(\"model\"):\n",
    "    _, loss, train_op = lstm_model(X, y, True)\n",
    "    \n",
    "with tf.Session() as sess:\n",
    "    sess.run(tf.global_variables_initializer())\n",
    "    \n",
    "    # 测试在训练之前的模型效果。\n",
    "    print(\"Evaluate model before training.\")\n",
    "    run_eval(sess, test_X, test_y)\n",
    "    \n",
    "    # 训练模型。\n",
    "    for i in range(TRAINING_STEPS):\n",
    "        _, l = sess.run([train_op, loss])\n",
    "        if i % 1000 == 0:\n",
    "            print(\"train step: \" + str(i) + \", loss: \" + str(l))\n",
    "    \n",
    "    # 使用训练好的模型对测试数据进行预测。\n",
    "    print(\"Evaluate model after training.\")\n",
    "    run_eval(sess, test_X, test_y)"
   ]
  }
 ],
 "metadata": {
  "kernelspec": {
   "display_name": "Python 3",
   "language": "python",
   "name": "python3"
  },
  "language_info": {
   "codemirror_mode": {
    "name": "ipython",
    "version": 3
   },
   "file_extension": ".py",
   "mimetype": "text/x-python",
   "name": "python",
   "nbconvert_exporter": "python",
   "pygments_lexer": "ipython3",
   "version": "3.5.1"
  }
 },
 "nbformat": 4,
 "nbformat_minor": 2
}
