{
 "cells": [
  {
   "cell_type": "markdown",
   "metadata": {},
   "source": [
    "## 获取数据"
   ]
  },
  {
   "cell_type": "code",
   "execution_count": null,
   "metadata": {},
   "outputs": [],
   "source": [
    "#from json"
   ]
  },
  {
   "cell_type": "markdown",
   "metadata": {},
   "source": [
    "## 划分数据"
   ]
  },
  {
   "cell_type": "code",
   "execution_count": null,
   "metadata": {},
   "outputs": [],
   "source": [
    "from sklearn.model_selection import train_test_split\n",
    "train_feats, val_feats, train_labs, val_labs = train_test_split(feats, labs, test_size = 0.2, random_state = 0)"
   ]
  },
  {
   "cell_type": "markdown",
   "metadata": {},
   "source": [
    "## 测试方法"
   ]
  },
  {
   "cell_type": "code",
   "execution_count": null,
   "metadata": {},
   "outputs": [],
   "source": [
    "import matplotlib.pyplot as plt\n",
    "import numpy as np\n",
    "def fit_and_perform(model, train_feats, train_labs, val_feats, val_labs):\n",
    "    model.fit(train_feats, train_labs)\n",
    "    train_score = model.score(train_feats, train_labs)\n",
    "    train_res = model.predict(train_feats)\n",
    "    val_score = model.score(val_feats, val_labs)\n",
    "    val_res = model.predict(val_feats)\n",
    "    plt.figure(figsize=(20,8))\n",
    "    plt.subplot(121)\n",
    "    plt.scatter(train_labs,train_res, color = 'r', s = 20)\n",
    "    plt.plot([0, 60],[0, 60])\n",
    "    plt.title('score: %f'%train_score)\n",
    "    plt.subplot(122)\n",
    "    plt.scatter(val_labs, val_res, color = 'r', s = 20)\n",
    "    plt.plot([0, 60],[0, 60])\n",
    "    plt.title('score: %f'%val_score)\n",
    "    plt.show()\n",
    "    print(\"RMSE:\",np.mean((val_res-val_labs)**2)**0.5)"
   ]
  },
  {
   "cell_type": "code",
   "execution_count": null,
   "metadata": {},
   "outputs": [],
   "source": [
    "from sklearn import tree\n",
    "from sklearn import linear_model\n",
    "from sklearn import svm\n",
    "from sklearn import neighbors\n",
    "from sklearn import ensemble\n",
    "from sklearn.tree import ExtraTreeRegressor\n",
    "# model = tree.DecisionTreeRegressor() # 决策树\n",
    "# model = linear_model.LinearRegression() #线性回归\n",
    "# model = svm.SVR() # SVM\n",
    "# model = neighbors.KNeighborsRegressor() # KNN\n",
    "# model = ensemble.RandomForestRegressor(n_estimators=20) # 使用20个决策树的rf\n",
    "# model = ensemble.AdaBoostRegressor(n_estimators=50) # 使用50个决策树的adaboost\n",
    "# model = ensemble.GradientBoostingRegressor(n_estimators=100) # 这里使用100个决策树的GBRT\n",
    "# model_BaggingRegressor = ensemble.BaggingRegressor() #Bagging\n",
    "# model = ExtraTreeRegressor() # 极端随机树\n",
    "fit_and_perform(model, train_feats, train_labs, val_feats, val_labs)"
   ]
  },
  {
   "cell_type": "code",
   "execution_count": null,
   "metadata": {},
   "outputs": [],
   "source": [
    "import xgboost as xgb\n",
    "param = {'bst:max_depth':2, 'bst:eta':1, 'silent':1, 'objective':'reg:linear' }\n",
    "param['nthread'] = 4\n",
    "plst = param.items()\n",
    "# plst += [('eval_metric', 'auc')] # Multiple evals can be handled in this way\n",
    "# plst += [('eval_metric', 'ams@0')]\n",
    "\n",
    "dtrain = xgb.DMatrix(train_feats, label=train_labs)\n",
    "num_round = 10\n",
    "model = xgb.train(plst, dtrain, num_round)\n",
    "dtest = xgb.DMatrix(train_feats)\n",
    "train_res = model.predict(dtest)\n",
    "dtest = xgb.DMatrix(val_feats)\n",
    "val_res = model.predict(dtest)\n",
    "plt.figure(figsize=(20,8))\n",
    "plt.subplot(121)\n",
    "plt.scatter(train_labs,train_res, color = 'r', s = 20)\n",
    "plt.plot([0, 60],[0, 60])\n",
    "plt.subplot(122)\n",
    "plt.scatter(val_labs, val_res, color = 'r', s = 20)\n",
    "plt.plot([0, 60],[0, 60])\n",
    "plt.show()\n",
    "print(\"RMSE:\",np.mean((val_res-val_labs)**2)**0.5)"
   ]
  },
  {
   "cell_type": "code",
   "execution_count": null,
   "metadata": {},
   "outputs": [],
   "source": []
  },
  {
   "cell_type": "markdown",
   "metadata": {},
   "source": [
    "## 生成提交数据"
   ]
  },
  {
   "cell_type": "code",
   "execution_count": null,
   "metadata": {},
   "outputs": [],
   "source": [
    "file_name = \"D:\\\\学术\\\\work\\比赛\\\\2018.2.21.3nd北邮大数据竞赛\\\\result\\\\result_2018-05-22.csv\"\n",
    "for i in range(1,34):\n",
    "    for h in range(24):\n",
    "        "
   ]
  },
  {
   "cell_type": "code",
   "execution_count": null,
   "metadata": {},
   "outputs": [],
   "source": []
  },
  {
   "cell_type": "markdown",
   "metadata": {},
   "source": [
    "## trick"
   ]
  },
  {
   "cell_type": "code",
   "execution_count": 1,
   "metadata": {},
   "outputs": [],
   "source": [
    "file_name = \"D:\\\\学术\\\\work\\比赛\\\\2018.2.21.3nd北邮大数据竞赛\\\\result\\\\result_2018-05-22.csv\"\n",
    "R0 = 1045.2566\n",
    "R1 = 191.3149\n",
    "\n",
    "fid = open(file_name,\"r\")\n",
    "line = fid.readlines()\n",
    "fid.close()\n",
    "\n",
    "C2 = 0\n",
    "n = 9\n",
    "for l in line:\n",
    "    C2 += float(l.strip(\"\\n\").split(\",\")[-1])**2\n",
    "    n += 1\n",
    "k = n*(R0**2 - R1**2)/(2*C2) + 0.5\n",
    "\n",
    "file_name_plus1 = file_name.split(\".\")\n",
    "file_name_plus1[-2] = file_name_plus1[-2] + \"+1\"\n",
    "\n",
    "fid = open(\".\".join(file_name_plus1),'w',encoding='utf8')\n",
    "for l in line:\n",
    "    tmp = l.strip(\"\\n\").split(\",\")[:-1]\n",
    "    tmp.append(str(k*float(l.strip(\"\\n\").split(\",\")[-1]))+\"\\n\")\n",
    "    fid.write(\",\".join(tmp))\n",
    "fid.close()"
   ]
  },
  {
   "cell_type": "code",
   "execution_count": null,
   "metadata": {},
   "outputs": [],
   "source": []
  }
 ],
 "metadata": {
  "kernelspec": {
   "display_name": "Python 3",
   "language": "python",
   "name": "python3"
  },
  "language_info": {
   "codemirror_mode": {
    "name": "ipython",
    "version": 3
   },
   "file_extension": ".py",
   "mimetype": "text/x-python",
   "name": "python",
   "nbconvert_exporter": "python",
   "pygments_lexer": "ipython3",
   "version": "3.5.1"
  }
 },
 "nbformat": 4,
 "nbformat_minor": 2
}
