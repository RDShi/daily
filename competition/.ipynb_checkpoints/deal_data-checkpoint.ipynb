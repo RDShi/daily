{
 "cells": [
  {
   "cell_type": "code",
   "execution_count": 39,
   "metadata": {},
   "outputs": [],
   "source": [
    "from datetime import datetime\n",
    "fid = open(\"D:\\\\学术\\\\work\\比赛\\\\2018.2.21.3nd北邮大数据竞赛\\\\data\\\\10.csv\",\"r\")\n",
    "fid.readline()\n",
    "dic = {}\n",
    "line = fid.readline()\n",
    "while line:\n",
    "    time, loc = line.strip(\"\\n\").split(\",\")[1:]\n",
    "    key = datetime.strptime(time,\"%Y-%m-%d %H\")\n",
    "    if loc not in dic.keys():\n",
    "        dic[loc] = {}\n",
    "    if key in dic[loc].keys():\n",
    "        dic[loc][key]=dic[loc][key]+1\n",
    "    else:\n",
    "        dic[loc][key]=1\n",
    "    line = fid.readline()\n",
    "fid.close()"
   ]
  },
  {
   "cell_type": "code",
   "execution_count": 67,
   "metadata": {},
   "outputs": [
    {
     "data": {
      "image/png": "[encoded data removed]",
      "text/plain": [
       "<matplotlib.figure.Figure at 0x2488635fda0>"
      ]
     },
     "metadata": {},
     "output_type": "display_data"
    }
   ],
   "source": [
    "from pylab import *\n",
    "import datetime\n",
    "loc = \"3\"\n",
    "start_time = datetime.datetime.strptime(\"2017-10-10 0\",\"%Y-%m-%d %H\")\n",
    "i = 0\n",
    "x = []\n",
    "y = []\n",
    "while start_time in dic[loc].keys():\n",
    "    x.append(i)\n",
    "    i += 1\n",
    "    y.append(dic[loc][start_time])\n",
    "    start_time = start_time + datetime.timedelta(hours=1)\n",
    "    \n",
    "\n",
    "plot(x, y)\n",
    "show()"
   ]
  },
  {
   "cell_type": "code",
   "execution_count": 1,
   "metadata": {},
   "outputs": [
    {
     "ename": "FileNotFoundError",
     "evalue": "[Errno 2] No such file or directory: 'D:\\\\学术\\\\work\\\\比赛\\\\2018.2.21.3nd北邮大数据竞赛\\\\result\\\\result_2018-05-22+1.csv'",
     "output_type": "error",
     "traceback": [
      "\u001b[1;31m---------------------------------------------------------------------------\u001b[0m",
      "\u001b[1;31mFileNotFoundError\u001b[0m                         Traceback (most recent call last)",
      "\u001b[1;32m<ipython-input-1-222f465baba1>\u001b[0m in \u001b[0;36m<module>\u001b[1;34m()\u001b[0m\n\u001b[0;32m      3\u001b[0m \u001b[0mR1\u001b[0m \u001b[1;33m=\u001b[0m \u001b[1;36m214.1222\u001b[0m\u001b[1;33m\u001b[0m\u001b[0m\n\u001b[0;32m      4\u001b[0m \u001b[1;33m\u001b[0m\u001b[0m\n\u001b[1;32m----> 5\u001b[1;33m \u001b[0mfid\u001b[0m \u001b[1;33m=\u001b[0m \u001b[0mopen\u001b[0m\u001b[1;33m(\u001b[0m\u001b[0mfile_name\u001b[0m\u001b[1;33m,\u001b[0m\u001b[1;34m\"r\"\u001b[0m\u001b[1;33m)\u001b[0m\u001b[1;33m\u001b[0m\u001b[0m\n\u001b[0m\u001b[0;32m      6\u001b[0m \u001b[0mline\u001b[0m \u001b[1;33m=\u001b[0m \u001b[0mfid\u001b[0m\u001b[1;33m.\u001b[0m\u001b[0mreadlines\u001b[0m\u001b[1;33m(\u001b[0m\u001b[1;33m)\u001b[0m\u001b[1;33m\u001b[0m\u001b[0m\n\u001b[0;32m      7\u001b[0m \u001b[0mfid\u001b[0m\u001b[1;33m.\u001b[0m\u001b[0mclose\u001b[0m\u001b[1;33m(\u001b[0m\u001b[1;33m)\u001b[0m\u001b[1;33m\u001b[0m\u001b[0m\n",
      "\u001b[1;31mFileNotFoundError\u001b[0m: [Errno 2] No such file or directory: 'D:\\\\学术\\\\work\\\\比赛\\\\2018.2.21.3nd北邮大数据竞赛\\\\result\\\\result_2018-05-22+1.csv'"
     ]
    }
   ],
   "source": [
    "file_name = \"D:\\\\学术\\\\work\\比赛\\\\2018.2.21.3nd北邮大数据竞赛\\\\result\\\\result_2018-05-22+1.csv\"\n",
    "R0 = 1045.2566\n",
    "R1 = 214.1222\n",
    "\n",
    "fid = open(file_name,\"r\")\n",
    "line = fid.readlines()\n",
    "fid.close()\n",
    "\n",
    "C2 = 0\n",
    "n = 9\n",
    "for l in line:\n",
    "    C2 += float(l.strip(\"\\n\").split(\",\")[-1])**2\n",
    "    n += 1\n",
    "k = n*(R0**2 - R1**2)/(2*C2) + 0.5\n",
    "\n",
    "file_name_plus1 = file_name.split(\".\")\n",
    "file_name_plus1[-2] = file_name_plus1[-2] + \"+1\"\n",
    "\n",
    "fid = open(\".\".join(file_name_plus1),'w',encoding='utf8')\n",
    "for l in line:\n",
    "    tmp = l.strip(\"\\n\").split(\",\")[:-1]\n",
    "    tmp.append(str(k*float(l.strip(\"\\n\").split(\",\")[-1]))+\"\\n\")\n",
    "    fid.write(\",\".join(tmp))\n",
    "fid.close()"
   ]
  },
  {
   "cell_type": "code",
   "execution_count": 14,
   "metadata": {},
   "outputs": [],
   "source": [
    "run D:/Users/administration/Desktop/trick..py"
   ]
  },
  {
   "cell_type": "code",
   "execution_count": 11,
   "metadata": {},
   "outputs": [
    {
     "data": {
      "text/plain": [
       "1.0484814618984002"
      ]
     },
     "execution_count": 11,
     "metadata": {},
     "output_type": "execute_result"
    }
   ],
   "source": [
    "l.strip(\"\\n\").split(\",\")[:-1]"
   ]
  },
  {
   "cell_type": "code",
   "execution_count": 21,
   "metadata": {},
   "outputs": [
    {
     "data": {
      "text/plain": [
       "'33,2017-12-31 23,48.23014724732641'"
      ]
     },
     "execution_count": 21,
     "metadata": {},
     "output_type": "execute_result"
    }
   ],
   "source": [
    "tmp = l.strip(\"\\n\").split(\",\")[:-1]\n",
    "tmp.append(str(k*float(l.strip(\"\\n\").split(\",\")[-1])))\n",
    "\",\".join(tmp)"
   ]
  },
  {
   "cell_type": "code",
   "execution_count": 19,
   "metadata": {},
   "outputs": [
    {
     "data": {
      "text/plain": [
       "'48.23014724732641'"
      ]
     },
     "execution_count": 19,
     "metadata": {},
     "output_type": "execute_result"
    }
   ],
   "source": [
    "str(k*float(l.strip(\"\\n\").split(\",\")[-1]))"
   ]
  },
  {
   "cell_type": "code",
   "execution_count": 19,
   "metadata": {},
   "outputs": [
    {
     "data": {
      "text/plain": [
       "'1'"
      ]
     },
     "execution_count": 19,
     "metadata": {},
     "output_type": "execute_result"
    }
   ],
   "source": [
    "loc"
   ]
  },
  {
   "cell_type": "code",
   "execution_count": 24,
   "metadata": {},
   "outputs": [],
   "source": []
  },
  {
   "cell_type": "code",
   "execution_count": 27,
   "metadata": {},
   "outputs": [],
   "source": []
  },
  {
   "cell_type": "code",
   "execution_count": 26,
   "metadata": {},
   "outputs": [],
   "source": [
    "dic = {}"
   ]
  },
  {
   "cell_type": "code",
   "execution_count": 28,
   "metadata": {},
   "outputs": [],
   "source": [
    "dic[key] = 1"
   ]
  },
  {
   "cell_type": "code",
   "execution_count": 34,
   "metadata": {},
   "outputs": [
    {
     "data": {
      "text/plain": [
       "dict_keys([datetime.datetime(2017, 1, 1, 0, 0)])"
      ]
     },
     "execution_count": 34,
     "metadata": {},
     "output_type": "execute_result"
    }
   ],
   "source": [
    "dic.keys()"
   ]
  },
  {
   "cell_type": "code",
   "execution_count": 33,
   "metadata": {},
   "outputs": [
    {
     "data": {
      "text/plain": [
       "['__class__',\n",
       " '__contains__',\n",
       " '__delattr__',\n",
       " '__delitem__',\n",
       " '__dir__',\n",
       " '__doc__',\n",
       " '__eq__',\n",
       " '__format__',\n",
       " '__ge__',\n",
       " '__getattribute__',\n",
       " '__getitem__',\n",
       " '__gt__',\n",
       " '__hash__',\n",
       " '__init__',\n",
       " '__iter__',\n",
       " '__le__',\n",
       " '__len__',\n",
       " '__lt__',\n",
       " '__ne__',\n",
       " '__new__',\n",
       " '__reduce__',\n",
       " '__reduce_ex__',\n",
       " '__repr__',\n",
       " '__setattr__',\n",
       " '__setitem__',\n",
       " '__sizeof__',\n",
       " '__str__',\n",
       " '__subclasshook__',\n",
       " 'clear',\n",
       " 'copy',\n",
       " 'fromkeys',\n",
       " 'get',\n",
       " 'items',\n",
       " 'keys',\n",
       " 'pop',\n",
       " 'popitem',\n",
       " 'setdefault',\n",
       " 'update',\n",
       " 'values']"
      ]
     },
     "execution_count": 33,
     "metadata": {},
     "output_type": "execute_result"
    }
   ],
   "source": [
    "dir(dic)"
   ]
  },
  {
   "cell_type": "code",
   "execution_count": null,
   "metadata": {},
   "outputs": [],
   "source": []
  }
 ],
 "metadata": {
  "kernelspec": {
   "display_name": "Python 3",
   "language": "python",
   "name": "python3"
  },
  "language_info": {
   "codemirror_mode": {
    "name": "ipython",
    "version": 3
   },
   "file_extension": ".py",
   "mimetype": "text/x-python",
   "name": "python",
   "nbconvert_exporter": "python",
   "pygments_lexer": "ipython3",
   "version": "3.5.1"
  }
 },
 "nbformat": 4,
 "nbformat_minor": 2
}
