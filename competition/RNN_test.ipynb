{
 "cells": [
  {
   "cell_type": "code",
   "execution_count": 1,
   "metadata": {},
   "outputs": [],
   "source": [
    "import numpy as np\n",
    "import tensorflow as tf"
   ]
  },
  {
   "cell_type": "markdown",
   "metadata": {},
   "source": [
    "## 单步RNN：RNNCell\n",
    "调用call(x1, h0)后就可以得到(output1, h1)，以此类推\n",
    "\n",
    "state_size是隐层的大小\n",
    "\n",
    "output_size是输出的大小。\n",
    "\n",
    "输入数据的shape为(batch_size, input_size)，计算时得到的隐层状态的shape是(batch_size, state_size)，输出的shape是(batch_size, output_size)\n",
    "\n",
    "在BasicRNNCell中，output其实和隐状态的值是一样的。因此，我们还需要额外对输出定义新的变换，才能得到图中真正的输出y。"
   ]
  },
  {
   "cell_type": "markdown",
   "metadata": {},
   "source": [
    "## 多步RNN：tf.nn.dynamic_rnn\n"
   ]
  },
  {
   "cell_type": "markdown",
   "metadata": {},
   "source": [
    "## 多层堆叠RNNCell：MultiRNNCell\n",
    "隐层状态就相当于第二层RNN的输入，第二层RNN的隐层状态又相当于第三层RNN的输入，以此类推。"
   ]
  },
  {
   "cell_type": "code",
   "execution_count": null,
   "metadata": {},
   "outputs": [],
   "source": [
    "hide_size = 128\n",
    "cell = tf.nn.rnn_cell.BasicLSTMCell(hide_size) #隐藏节点的个数。\n",
    "# dir(single_rnn)\n",
    "# single_rnn.call()\n",
    "# single_rnn.output_size\n",
    "inputs = tf.placeholder(np.float32, shape=(32, 100,10)) # 32 是 batch_size\n",
    "h0 = lstm_cell.zero_state(32, np.float32) # 通过zero_state得到一个全0的初始状态\n",
    "outputs = tf.nn.dynamic_rnn(cell, inputs, dtype=tf.float32)\n",
    "outputs.shape"
   ]
  },
  {
   "cell_type": "code",
   "execution_count": 17,
   "metadata": {},
   "outputs": [
    {
     "data": {
      "text/plain": [
       "(<tf.Tensor 'rnn_2/transpose_1:0' shape=(32, 100, 128) dtype=float32>,\n",
       " LSTMStateTuple(c=<tf.Tensor 'rnn_2/while/Exit_3:0' shape=(32, 128) dtype=float32>, h=<tf.Tensor 'rnn_2/while/Exit_4:0' shape=(32, 128) dtype=float32>))"
      ]
     },
     "execution_count": 17,
     "metadata": {},
     "output_type": "execute_result"
    }
   ],
   "source": [
    "outputs"
   ]
  }
 ],
 "metadata": {
  "kernelspec": {
   "display_name": "Python 3",
   "language": "python",
   "name": "python3"
  },
  "language_info": {
   "codemirror_mode": {
    "name": "ipython",
    "version": 3
   },
   "file_extension": ".py",
   "mimetype": "text/x-python",
   "name": "python",
   "nbconvert_exporter": "python",
   "pygments_lexer": "ipython3",
   "version": "3.5.1"
  }
 },
 "nbformat": 4,
 "nbformat_minor": 2
}
