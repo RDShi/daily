{
 "cells": [
  {
   "cell_type": "code",
   "execution_count": 16,
   "metadata": {},
   "outputs": [],
   "source": [
    "from sklearn.datasets import load_boston\n",
    "from sklearn.model_selection import train_test_split\n",
    "data = load_boston()\n",
    "train_feats, val_feats, train_labs, val_labs = train_test_split(data[\"data\"], data[\"target\"], test_size=0.2, random_state=42)"
   ]
  },
  {
   "cell_type": "markdown",
   "metadata": {},
   "source": [
    "# sk-learn超参数调优方法\n",
    "机器学习和深度学习模型中有两类参数：一类参数可以通过数据训练调优，另一类参数是通过先验的知识人为设定，后一类参数叫做超参数\n",
    "\n",
    "sk-learn的模型可以通过model.get_params()查看超参数\n",
    "\n",
    "## 超参数调优的流程\n",
    "\n",
    "选择模型 $\\Longrightarrow$ 确定模型超参数空间 $\\Longrightarrow$ 选择搜索方法 $\\Longrightarrow$ 交叉验证机制和评分函数\n",
    "\n",
    "sklearn 提供了两种通用的参数优化方法：网络搜索和随机采样\n",
    "- 网格搜索交叉验证（GridSearchCV）：以穷举的方式遍历所有可能的参数组合\n",
    "- 随机采样交叉验证（RandomizedSearchCV）：依据某种分布对参数空间采样，随机的得到一些候选参数组合方案\n",
    "\n",
    "因为调参我们还是希望参与感强一点，这样选出来的模型和参数更能让人信服，所以一般用网格搜索，比较灵活，可以看到自己关心的超参数取值"
   ]
  },
  {
   "cell_type": "code",
   "execution_count": 24,
   "metadata": {},
   "outputs": [
    {
     "data": {
      "text/plain": [
       "{'alpha': 0.9,\n",
       " 'criterion': 'friedman_mse',\n",
       " 'init': None,\n",
       " 'learning_rate': 0.1,\n",
       " 'loss': 'ls',\n",
       " 'max_depth': 3,\n",
       " 'max_features': None,\n",
       " 'max_leaf_nodes': None,\n",
       " 'min_impurity_decrease': 0.0,\n",
       " 'min_impurity_split': None,\n",
       " 'min_samples_leaf': 1,\n",
       " 'min_samples_split': 2,\n",
       " 'min_weight_fraction_leaf': 0.0,\n",
       " 'n_estimators': 100,\n",
       " 'presort': 'auto',\n",
       " 'random_state': None,\n",
       " 'subsample': 1.0,\n",
       " 'verbose': 0,\n",
       " 'warm_start': False}"
      ]
     },
     "execution_count": 24,
     "metadata": {},
     "output_type": "execute_result"
    }
   ],
   "source": [
    "from sklearn.ensemble import GradientBoostingRegressor\n",
    "model = GradientBoostingRegressor()\n",
    "model.get_params()"
   ]
  },
  {
   "cell_type": "markdown",
   "metadata": {},
   "source": [
    "### GridSearchCV:\n",
    "给出要搜索的参数空间列表param_grid，其中每个元素都是一个字典，key值是要搜索的参数名，value是对应参数可选的值。\n",
    "把model和param_grid传进GridSearchCV里，然后用数据fit一下，得出最优的超参clf.best_estimator_\n",
    "默认情况下，参数搜索使用estimator的score函数来评估模型在某种参数配置下的性能：\n",
    "- 分类器对应于 sklearn.metrics.accuracy_score\n",
    "- 回归器对应于 sklearn.metrics.r2_score\n",
    "\n",
    "tips：\n",
    "- 但是在某些场景下，有更合适的评分函数，例如在非平衡的分类问题中，准确率sccuracy_score通常不管用。这时，可以通过参数scoring来指定GridSearchCV评分函数\n",
    "- 参数搜索可以并行化，通过参数\"n_jobs\"来指定并行的个数。\n",
    "- 在出错参数上只是提示警告，设置参数error_score=0(or=np.NaN)"
   ]
  },
  {
   "cell_type": "code",
   "execution_count": 34,
   "metadata": {},
   "outputs": [
    {
     "name": "stdout",
     "output_type": "stream",
     "text": [
      "GradientBoostingRegressor(alpha=0.9, criterion='friedman_mse', init=None,\n",
      "             learning_rate=0.1, loss='ls', max_depth=3, max_features=None,\n",
      "             max_leaf_nodes=None, min_impurity_decrease=0.0,\n",
      "             min_impurity_split=None, min_samples_leaf=1,\n",
      "             min_samples_split=2, min_weight_fraction_leaf=0.0,\n",
      "             n_estimators=100, presort='auto', random_state=None,\n",
      "             subsample=1.0, verbose=0, warm_start=False)\n"
     ]
    }
   ],
   "source": [
    "from sklearn.model_selection import GridSearchCV\n",
    "param_grid = {\"n_estimators\":[10,100,200,300], \"max_depth\":[3,5,7]}\n",
    "grid_search = GridSearchCV(model, param_grid)\n",
    "grid_search = grid_search.fit(train_feats, train_labs)\n",
    "print(grid_search.best_estimator_)"
   ]
  },
  {
   "cell_type": "code",
   "execution_count": null,
   "metadata": {},
   "outputs": [],
   "source": []
  },
  {
   "cell_type": "code",
   "execution_count": null,
   "metadata": {},
   "outputs": [],
   "source": []
  }
 ],
 "metadata": {
  "kernelspec": {
   "display_name": "Python 3",
   "language": "python",
   "name": "python3"
  },
  "language_info": {
   "codemirror_mode": {
    "name": "ipython",
    "version": 3
   },
   "file_extension": ".py",
   "mimetype": "text/x-python",
   "name": "python",
   "nbconvert_exporter": "python",
   "pygments_lexer": "ipython3",
   "version": "3.5.1"
  }
 },
 "nbformat": 4,
 "nbformat_minor": 2
}
